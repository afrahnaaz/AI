{
  "nbformat": 4,
  "nbformat_minor": 0,
  "metadata": {
    "colab": {
      "name": "AI_Assignment_3.ipynb",
      "provenance": [],
      "authorship_tag": "ABX9TyPYGfCgjC9NYdgtX5nuTfBN",
      "include_colab_link": true
    },
    "kernelspec": {
      "name": "python3",
      "display_name": "Python 3"
    },
    "language_info": {
      "name": "python"
    }
  },
  "cells": [
    {
      "cell_type": "markdown",
      "metadata": {
        "id": "view-in-github",
        "colab_type": "text"
      },
      "source": [
        "<a href=\"https://colab.research.google.com/github/afrahnaaz/AI/blob/main/AI_Assignment_3.ipynb\" target=\"_parent\"><img src=\"https://colab.research.google.com/assets/colab-badge.svg\" alt=\"Open In Colab\"/></a>"
      ]
    },
    {
      "cell_type": "code",
      "metadata": {
        "colab": {
          "base_uri": "https://localhost:8080/"
        },
        "id": "2Txx_tiqwisl",
        "outputId": "f916b3f6-b042-48d8-a64e-d35f1d3a729a"
      },
      "source": [
        "import numpy as np\n",
        "import math as m\n",
        "x = np.random.uniform(-12,12)\n",
        "y = np.random.uniform(-12,12)\n",
        "eta = 0.01\n",
        "iterations = 10000\n",
        "for i in range(iterations):\n",
        "    gradx = 6*x\n",
        "    grady = -5*m.exp(-y)\n",
        "    stepx = -eta*gradx\n",
        "    stepy = -eta*grady\n",
        "    x += stepx\n",
        "    y += stepy\n",
        "x = round(x)\n",
        "y = round(y)\n",
        "print(f'The value of x,y : ', x, y)\n",
        "print(f'Minimum Value of f(x,y) : ', (3*x**2)+(5*m.exp(-y))+10 )"
      ],
      "execution_count": 1,
      "outputs": [
        {
          "output_type": "stream",
          "name": "stdout",
          "text": [
            "The value of x,y :  0 6\n",
            "Minimum Value of f(x,y) :  10.012393760883333\n"
          ]
        }
      ]
    }
  ]
}