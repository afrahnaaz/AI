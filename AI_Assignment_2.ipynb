{
  "nbformat": 4,
  "nbformat_minor": 0,
  "metadata": {
    "colab": {
      "name": "AI_Assignment_2.ipynb",
      "provenance": [],
      "authorship_tag": "ABX9TyNNpni4UxREj2ZpDPkSNpay",
      "include_colab_link": true
    },
    "kernelspec": {
      "name": "python3",
      "display_name": "Python 3"
    },
    "language_info": {
      "name": "python"
    }
  },
  "cells": [
    {
      "cell_type": "markdown",
      "metadata": {
        "id": "view-in-github",
        "colab_type": "text"
      },
      "source": [
        "<a href=\"https://colab.research.google.com/github/afrahnaaz/AI/blob/main/AI_Assignment_2.ipynb\" target=\"_parent\"><img src=\"https://colab.research.google.com/assets/colab-badge.svg\" alt=\"Open In Colab\"/></a>"
      ]
    },
    {
      "cell_type": "code",
      "metadata": {
        "colab": {
          "base_uri": "https://localhost:8080/"
        },
        "id": "6Q1fji4asr3r",
        "outputId": "b0dd093a-0a7a-47f6-93ef-eb468f22982c"
      },
      "source": [
        "import numpy as np\n",
        "x = np.random.uniform(-10,10)\n",
        "eta = 0.007\n",
        "iterations = 5000\n",
        "for i in range(iterations):\n",
        "    gradx = 4 * (x**3) + 6*x\n",
        "    stepx = -eta*gradx\n",
        "    x += stepx\n",
        "x = round(x)\n",
        "print(f'The value of x is : ', x)\n",
        "print(f'Minimum Value of f(x) : ', (x*4)+3*x*2+10 )"
      ],
      "execution_count": 1,
      "outputs": [
        {
          "output_type": "stream",
          "name": "stdout",
          "text": [
            "The value of x is :  0\n",
            "Minimum Value of f(x) :  10\n"
          ]
        }
      ]
    }
  ]
}