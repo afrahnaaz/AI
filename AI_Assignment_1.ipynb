{
  "nbformat": 4,
  "nbformat_minor": 0,
  "metadata": {
    "colab": {
      "name": "AI Assignment-1",
      "provenance": [],
      "authorship_tag": "ABX9TyMGIREmJs43oH8Bjs7h8GPU",
      "include_colab_link": true
    },
    "kernelspec": {
      "name": "python3",
      "display_name": "Python 3"
    },
    "language_info": {
      "name": "python"
    }
  },
  "cells": [
    {
      "cell_type": "markdown",
      "metadata": {
        "id": "view-in-github",
        "colab_type": "text"
      },
      "source": [
        "<a href=\"https://colab.research.google.com/github/afrahnaaz/AI/blob/main/AI_Assignment_1.ipynb\" target=\"_parent\"><img src=\"https://colab.research.google.com/assets/colab-badge.svg\" alt=\"Open In Colab\"/></a>"
      ]
    },
    {
      "cell_type": "code",
      "metadata": {
        "colab": {
          "base_uri": "https://localhost:8080/"
        },
        "id": "-_Uf5wLwx9oP",
        "outputId": "4721b3af-b4e3-49fe-da01-304ced1210f8"
      },
      "source": [
        "from scipy.optimize import linprog\n",
        "obj=[-50,-120]\n",
        "A_ieq=[[7000,2000],[10,30],[1,1]]\n",
        "b_ieq=[700000,1200,110]\n",
        "boundery=[(0,float('inf')),(0,float('inf'))]\n",
        "opt=linprog(c=obj,A_ub=A_ieq,b_ub=b_ieq,A_eq=None,b_eq=None,bounds=boundery,method=\"Simplex\")\n",
        "opt.x\n",
        "print('Amount of Wheat =',round(opt.x[0]))\n",
        "print('Amount of Barley =',round(opt.x[1]))\n",
        "x,y=opt.x\n",
        "profit=x*50 + y*120\n",
        "print('Total profit=',profit)"
      ],
      "execution_count": 1,
      "outputs": [
        {
          "output_type": "stream",
          "text": [
            "Amount of Wheat = 98\n",
            "Amount of Barley = 7\n",
            "Total profit= 5778.9473684210525\n"
          ],
          "name": "stdout"
        }
      ]
    }
  ]
}