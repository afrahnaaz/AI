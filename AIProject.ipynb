{
  "nbformat": 4,
  "nbformat_minor": 5,
  "metadata": {
    "colab": {
      "name": "AIProject.ipynb",
      "provenance": [],
      "include_colab_link": true
    },
    "kernelspec": {
      "display_name": "Python 3",
      "language": "python",
      "name": "python3"
    },
    "language_info": {
      "codemirror_mode": {
        "name": "ipython",
        "version": 3
      },
      "file_extension": ".py",
      "mimetype": "text/x-python",
      "name": "python",
      "nbconvert_exporter": "python",
      "pygments_lexer": "ipython3",
      "version": "3.8.10"
    }
  },
  "cells": [
    {
      "cell_type": "markdown",
      "metadata": {
        "id": "view-in-github",
        "colab_type": "text"
      },
      "source": [
        "<a href=\"https://colab.research.google.com/github/afrahnaaz/AI/blob/main/AIProject.ipynb\" target=\"_parent\"><img src=\"https://colab.research.google.com/assets/colab-badge.svg\" alt=\"Open In Colab\"/></a>"
      ]
    },
    {
      "cell_type": "code",
      "metadata": {
        "id": "7cc83399"
      },
      "source": [
        "import pandas as pd\n",
        "import numpy as np"
      ],
      "id": "7cc83399",
      "execution_count": null,
      "outputs": []
    },
    {
      "cell_type": "code",
      "metadata": {
        "id": "BNwAXX2URl6z"
      },
      "source": [
        "import seaborn as sns\n",
        "import matplotlib.pyplot as plt\n",
        "%matplotlib inline"
      ],
      "id": "BNwAXX2URl6z",
      "execution_count": null,
      "outputs": []
    },
    {
      "cell_type": "code",
      "metadata": {
        "colab": {
          "base_uri": "https://localhost:8080/"
        },
        "id": "-6qDOXosXsQB",
        "outputId": "acbfb797-94d3-4322-c835-9b5e15f7af54"
      },
      "source": [
        "from google.colab import drive \n",
        "drive.mount('/content/drive')"
      ],
      "id": "-6qDOXosXsQB",
      "execution_count": null,
      "outputs": [
        {
          "output_type": "stream",
          "name": "stdout",
          "text": [
            "Mounted at /content/drive\n"
          ]
        }
      ]
    },
    {
      "cell_type": "code",
      "metadata": {
        "colab": {
          "base_uri": "https://localhost:8080/",
          "height": 206
        },
        "id": "7aa2497c",
        "outputId": "f5f4d048-8709-4b1d-fcf4-c7e63655a710"
      },
      "source": [
        "df = pd.read_csv(\"/content/drive/MyDrive/data.csv\")\n",
        "df.head()"
      ],
      "id": "7aa2497c",
      "execution_count": 30,
      "outputs": [
        {
          "output_type": "execute_result",
          "data": {
            "text/html": [
              "<div>\n",
              "<style scoped>\n",
              "    .dataframe tbody tr th:only-of-type {\n",
              "        vertical-align: middle;\n",
              "    }\n",
              "\n",
              "    .dataframe tbody tr th {\n",
              "        vertical-align: top;\n",
              "    }\n",
              "\n",
              "    .dataframe thead th {\n",
              "        text-align: right;\n",
              "    }\n",
              "</style>\n",
              "<table border=\"1\" class=\"dataframe\">\n",
              "  <thead>\n",
              "    <tr style=\"text-align: right;\">\n",
              "      <th></th>\n",
              "      <th>Unnamed: 0</th>\n",
              "      <th>Brand me</th>\n",
              "      <th>Ratings</th>\n",
              "      <th>RAM</th>\n",
              "      <th>ROM</th>\n",
              "      <th>Mobile_Size</th>\n",
              "      <th>Primary_Cam</th>\n",
              "      <th>Selfi_Cam</th>\n",
              "      <th>Battery_Power</th>\n",
              "      <th>Price</th>\n",
              "    </tr>\n",
              "  </thead>\n",
              "  <tbody>\n",
              "    <tr>\n",
              "      <th>0</th>\n",
              "      <td>0</td>\n",
              "      <td>LG V30+ (Black, 128 )</td>\n",
              "      <td>4.3</td>\n",
              "      <td>4.0</td>\n",
              "      <td>128.0</td>\n",
              "      <td>6.00</td>\n",
              "      <td>48</td>\n",
              "      <td>13.0</td>\n",
              "      <td>4000</td>\n",
              "      <td>24999</td>\n",
              "    </tr>\n",
              "    <tr>\n",
              "      <th>1</th>\n",
              "      <td>1</td>\n",
              "      <td>I Kall K11</td>\n",
              "      <td>3.4</td>\n",
              "      <td>6.0</td>\n",
              "      <td>64.0</td>\n",
              "      <td>4.50</td>\n",
              "      <td>48</td>\n",
              "      <td>12.0</td>\n",
              "      <td>4000</td>\n",
              "      <td>15999</td>\n",
              "    </tr>\n",
              "    <tr>\n",
              "      <th>2</th>\n",
              "      <td>2</td>\n",
              "      <td>Nokia 105 ss</td>\n",
              "      <td>4.3</td>\n",
              "      <td>4.0</td>\n",
              "      <td>4.0</td>\n",
              "      <td>4.50</td>\n",
              "      <td>64</td>\n",
              "      <td>16.0</td>\n",
              "      <td>4000</td>\n",
              "      <td>15000</td>\n",
              "    </tr>\n",
              "    <tr>\n",
              "      <th>3</th>\n",
              "      <td>3</td>\n",
              "      <td>Samsung Galaxy A50 (White, 64 )</td>\n",
              "      <td>4.4</td>\n",
              "      <td>6.0</td>\n",
              "      <td>64.0</td>\n",
              "      <td>6.40</td>\n",
              "      <td>48</td>\n",
              "      <td>15.0</td>\n",
              "      <td>3800</td>\n",
              "      <td>18999</td>\n",
              "    </tr>\n",
              "    <tr>\n",
              "      <th>4</th>\n",
              "      <td>4</td>\n",
              "      <td>POCO F1 (Steel Blue, 128 )</td>\n",
              "      <td>4.5</td>\n",
              "      <td>6.0</td>\n",
              "      <td>128.0</td>\n",
              "      <td>6.18</td>\n",
              "      <td>35</td>\n",
              "      <td>15.0</td>\n",
              "      <td>3800</td>\n",
              "      <td>18999</td>\n",
              "    </tr>\n",
              "  </tbody>\n",
              "</table>\n",
              "</div>"
            ],
            "text/plain": [
              "   Unnamed: 0                         Brand me  ...  Battery_Power  Price\n",
              "0           0            LG V30+ (Black, 128 )  ...           4000  24999\n",
              "1           1                       I Kall K11  ...           4000  15999\n",
              "2           2                     Nokia 105 ss  ...           4000  15000\n",
              "3           3  Samsung Galaxy A50 (White, 64 )  ...           3800  18999\n",
              "4           4       POCO F1 (Steel Blue, 128 )  ...           3800  18999\n",
              "\n",
              "[5 rows x 10 columns]"
            ]
          },
          "metadata": {},
          "execution_count": 30
        }
      ]
    },
    {
      "cell_type": "code",
      "metadata": {
        "colab": {
          "base_uri": "https://localhost:8080/"
        },
        "id": "ec9d8c91",
        "outputId": "a4994b8f-9920-4f24-c929-fc2a62f668e5"
      },
      "source": [
        "df.shape"
      ],
      "id": "ec9d8c91",
      "execution_count": 31,
      "outputs": [
        {
          "output_type": "execute_result",
          "data": {
            "text/plain": [
              "(836, 10)"
            ]
          },
          "metadata": {},
          "execution_count": 31
        }
      ]
    },
    {
      "cell_type": "code",
      "metadata": {
        "colab": {
          "base_uri": "https://localhost:8080/",
          "height": 300
        },
        "id": "KdKVFBlRWK1l",
        "outputId": "75d5cd99-a025-429e-ec17-ac17b4215315"
      },
      "source": [
        "df.describe()"
      ],
      "id": "KdKVFBlRWK1l",
      "execution_count": 32,
      "outputs": [
        {
          "output_type": "execute_result",
          "data": {
            "text/html": [
              "<div>\n",
              "<style scoped>\n",
              "    .dataframe tbody tr th:only-of-type {\n",
              "        vertical-align: middle;\n",
              "    }\n",
              "\n",
              "    .dataframe tbody tr th {\n",
              "        vertical-align: top;\n",
              "    }\n",
              "\n",
              "    .dataframe thead th {\n",
              "        text-align: right;\n",
              "    }\n",
              "</style>\n",
              "<table border=\"1\" class=\"dataframe\">\n",
              "  <thead>\n",
              "    <tr style=\"text-align: right;\">\n",
              "      <th></th>\n",
              "      <th>Unnamed: 0</th>\n",
              "      <th>Ratings</th>\n",
              "      <th>RAM</th>\n",
              "      <th>ROM</th>\n",
              "      <th>Mobile_Size</th>\n",
              "      <th>Primary_Cam</th>\n",
              "      <th>Selfi_Cam</th>\n",
              "      <th>Battery_Power</th>\n",
              "      <th>Price</th>\n",
              "    </tr>\n",
              "  </thead>\n",
              "  <tbody>\n",
              "    <tr>\n",
              "      <th>count</th>\n",
              "      <td>836.000000</td>\n",
              "      <td>805.000000</td>\n",
              "      <td>829.000000</td>\n",
              "      <td>832.000000</td>\n",
              "      <td>834.000000</td>\n",
              "      <td>836.000000</td>\n",
              "      <td>567.000000</td>\n",
              "      <td>836.000000</td>\n",
              "      <td>836.00000</td>\n",
              "    </tr>\n",
              "    <tr>\n",
              "      <th>mean</th>\n",
              "      <td>417.500000</td>\n",
              "      <td>4.103106</td>\n",
              "      <td>6.066345</td>\n",
              "      <td>64.373077</td>\n",
              "      <td>5.597282</td>\n",
              "      <td>47.983254</td>\n",
              "      <td>9.784832</td>\n",
              "      <td>3274.688995</td>\n",
              "      <td>18220.34689</td>\n",
              "    </tr>\n",
              "    <tr>\n",
              "      <th>std</th>\n",
              "      <td>241.476707</td>\n",
              "      <td>0.365356</td>\n",
              "      <td>2.530336</td>\n",
              "      <td>53.447825</td>\n",
              "      <td>3.898664</td>\n",
              "      <td>11.170093</td>\n",
              "      <td>6.503838</td>\n",
              "      <td>927.518852</td>\n",
              "      <td>52805.55022</td>\n",
              "    </tr>\n",
              "    <tr>\n",
              "      <th>min</th>\n",
              "      <td>0.000000</td>\n",
              "      <td>2.800000</td>\n",
              "      <td>0.000000</td>\n",
              "      <td>0.000000</td>\n",
              "      <td>2.000000</td>\n",
              "      <td>5.000000</td>\n",
              "      <td>0.000000</td>\n",
              "      <td>1020.000000</td>\n",
              "      <td>479.00000</td>\n",
              "    </tr>\n",
              "    <tr>\n",
              "      <th>25%</th>\n",
              "      <td>208.750000</td>\n",
              "      <td>3.800000</td>\n",
              "      <td>6.000000</td>\n",
              "      <td>32.000000</td>\n",
              "      <td>4.500000</td>\n",
              "      <td>48.000000</td>\n",
              "      <td>5.000000</td>\n",
              "      <td>3000.000000</td>\n",
              "      <td>984.75000</td>\n",
              "    </tr>\n",
              "    <tr>\n",
              "      <th>50%</th>\n",
              "      <td>417.500000</td>\n",
              "      <td>4.100000</td>\n",
              "      <td>6.000000</td>\n",
              "      <td>40.000000</td>\n",
              "      <td>4.770000</td>\n",
              "      <td>48.000000</td>\n",
              "      <td>8.000000</td>\n",
              "      <td>3000.000000</td>\n",
              "      <td>1697.00000</td>\n",
              "    </tr>\n",
              "    <tr>\n",
              "      <th>75%</th>\n",
              "      <td>626.250000</td>\n",
              "      <td>4.400000</td>\n",
              "      <td>6.000000</td>\n",
              "      <td>64.000000</td>\n",
              "      <td>6.300000</td>\n",
              "      <td>48.000000</td>\n",
              "      <td>13.000000</td>\n",
              "      <td>3800.000000</td>\n",
              "      <td>18999.00000</td>\n",
              "    </tr>\n",
              "    <tr>\n",
              "      <th>max</th>\n",
              "      <td>835.000000</td>\n",
              "      <td>4.800000</td>\n",
              "      <td>34.000000</td>\n",
              "      <td>256.000000</td>\n",
              "      <td>44.000000</td>\n",
              "      <td>64.000000</td>\n",
              "      <td>61.000000</td>\n",
              "      <td>6000.000000</td>\n",
              "      <td>573000.00000</td>\n",
              "    </tr>\n",
              "  </tbody>\n",
              "</table>\n",
              "</div>"
            ],
            "text/plain": [
              "       Unnamed: 0     Ratings  ...  Battery_Power         Price\n",
              "count  836.000000  805.000000  ...     836.000000     836.00000\n",
              "mean   417.500000    4.103106  ...    3274.688995   18220.34689\n",
              "std    241.476707    0.365356  ...     927.518852   52805.55022\n",
              "min      0.000000    2.800000  ...    1020.000000     479.00000\n",
              "25%    208.750000    3.800000  ...    3000.000000     984.75000\n",
              "50%    417.500000    4.100000  ...    3000.000000    1697.00000\n",
              "75%    626.250000    4.400000  ...    3800.000000   18999.00000\n",
              "max    835.000000    4.800000  ...    6000.000000  573000.00000\n",
              "\n",
              "[8 rows x 9 columns]"
            ]
          },
          "metadata": {},
          "execution_count": 32
        }
      ]
    },
    {
      "cell_type": "code",
      "metadata": {
        "colab": {
          "base_uri": "https://localhost:8080/"
        },
        "id": "3j0DXAUTWkMU",
        "outputId": "df4cf601-e130-4748-9d13-a8337ba19e55"
      },
      "source": [
        "df.info()"
      ],
      "id": "3j0DXAUTWkMU",
      "execution_count": 33,
      "outputs": [
        {
          "output_type": "stream",
          "name": "stdout",
          "text": [
            "<class 'pandas.core.frame.DataFrame'>\n",
            "RangeIndex: 836 entries, 0 to 835\n",
            "Data columns (total 10 columns):\n",
            " #   Column         Non-Null Count  Dtype  \n",
            "---  ------         --------------  -----  \n",
            " 0   Unnamed: 0     836 non-null    int64  \n",
            " 1   Brand me       836 non-null    object \n",
            " 2   Ratings        805 non-null    float64\n",
            " 3   RAM            829 non-null    float64\n",
            " 4   ROM            832 non-null    float64\n",
            " 5   Mobile_Size    834 non-null    float64\n",
            " 6   Primary_Cam    836 non-null    int64  \n",
            " 7   Selfi_Cam      567 non-null    float64\n",
            " 8   Battery_Power  836 non-null    int64  \n",
            " 9   Price          836 non-null    int64  \n",
            "dtypes: float64(5), int64(4), object(1)\n",
            "memory usage: 65.4+ KB\n"
          ]
        }
      ]
    },
    {
      "cell_type": "code",
      "metadata": {
        "colab": {
          "base_uri": "https://localhost:8080/",
          "height": 440
        },
        "id": "bW9P2ClzWsyK",
        "outputId": "d451b200-bc5e-46cd-dba5-df093dc3cfa7"
      },
      "source": [
        "plt.figure(figsize = (12,6))\n",
        "sns.heatmap(df.corr())\n",
        "plt.show()"
      ],
      "id": "bW9P2ClzWsyK",
      "execution_count": 34,
      "outputs": [
        {
          "output_type": "display_data",
          "data": {
            "image/png": "[encoded data removed]",
            "text/plain": [
              "<Figure size 864x432 with 2 Axes>"
            ]
          },
          "metadata": {
            "needs_background": "light"
          }
        }
      ]
    },
    {
      "cell_type": "code",
      "metadata": {
        "id": "b21a63c4"
      },
      "source": [
        "df = df[['Ratings', 'RAM', 'ROM', 'Mobile_Size',\n",
        "       'Primary_Cam', 'Selfi_Cam', 'Battery_Power', 'Price']]"
      ],
      "id": "b21a63c4",
      "execution_count": 39,
      "outputs": []
    },
    {
      "cell_type": "code",
      "metadata": {
        "colab": {
          "background_save": true,
          "base_uri": "https://localhost:8080/",
          "height": 423
        },
        "id": "c5176c42",
        "outputId": "c24bcd3f-cf4b-4724-b8db-b597b51b8f39"
      },
      "source": [
        "data"
      ],
      "id": "c5176c42",
      "execution_count": null,
      "outputs": [
        {
          "data": {
            "text/html": [
              "<div>\n",
              "<style scoped>\n",
              "    .dataframe tbody tr th:only-of-type {\n",
              "        vertical-align: middle;\n",
              "    }\n",
              "\n",
              "    .dataframe tbody tr th {\n",
              "        vertical-align: top;\n",
              "    }\n",
              "\n",
              "    .dataframe thead th {\n",
              "        text-align: right;\n",
              "    }\n",
              "</style>\n",
              "<table border=\"1\" class=\"dataframe\">\n",
              "  <thead>\n",
              "    <tr style=\"text-align: right;\">\n",
              "      <th></th>\n",
              "      <th>Ratings</th>\n",
              "      <th>RAM</th>\n",
              "      <th>ROM</th>\n",
              "      <th>Mobile_Size</th>\n",
              "      <th>Primary_Cam</th>\n",
              "      <th>Selfi_Cam</th>\n",
              "      <th>Battery_Power</th>\n",
              "      <th>Price</th>\n",
              "    </tr>\n",
              "  </thead>\n",
              "  <tbody>\n",
              "    <tr>\n",
              "      <th>0</th>\n",
              "      <td>4.3</td>\n",
              "      <td>4.0</td>\n",
              "      <td>128.0</td>\n",
              "      <td>6.00</td>\n",
              "      <td>48</td>\n",
              "      <td>13.0</td>\n",
              "      <td>4000</td>\n",
              "      <td>24999</td>\n",
              "    </tr>\n",
              "    <tr>\n",
              "      <th>1</th>\n",
              "      <td>3.4</td>\n",
              "      <td>6.0</td>\n",
              "      <td>64.0</td>\n",
              "      <td>4.50</td>\n",
              "      <td>48</td>\n",
              "      <td>12.0</td>\n",
              "      <td>4000</td>\n",
              "      <td>15999</td>\n",
              "    </tr>\n",
              "    <tr>\n",
              "      <th>2</th>\n",
              "      <td>4.3</td>\n",
              "      <td>4.0</td>\n",
              "      <td>4.0</td>\n",
              "      <td>4.50</td>\n",
              "      <td>64</td>\n",
              "      <td>16.0</td>\n",
              "      <td>4000</td>\n",
              "      <td>15000</td>\n",
              "    </tr>\n",
              "    <tr>\n",
              "      <th>3</th>\n",
              "      <td>4.4</td>\n",
              "      <td>6.0</td>\n",
              "      <td>64.0</td>\n",
              "      <td>6.40</td>\n",
              "      <td>48</td>\n",
              "      <td>15.0</td>\n",
              "      <td>3800</td>\n",
              "      <td>18999</td>\n",
              "    </tr>\n",
              "    <tr>\n",
              "      <th>4</th>\n",
              "      <td>4.5</td>\n",
              "      <td>6.0</td>\n",
              "      <td>128.0</td>\n",
              "      <td>6.18</td>\n",
              "      <td>35</td>\n",
              "      <td>15.0</td>\n",
              "      <td>3800</td>\n",
              "      <td>18999</td>\n",
              "    </tr>\n",
              "    <tr>\n",
              "      <th>...</th>\n",
              "      <td>...</td>\n",
              "      <td>...</td>\n",
              "      <td>...</td>\n",
              "      <td>...</td>\n",
              "      <td>...</td>\n",
              "      <td>...</td>\n",
              "      <td>...</td>\n",
              "      <td>...</td>\n",
              "    </tr>\n",
              "    <tr>\n",
              "      <th>831</th>\n",
              "      <td>3.8</td>\n",
              "      <td>6.0</td>\n",
              "      <td>32.0</td>\n",
              "      <td>4.54</td>\n",
              "      <td>48</td>\n",
              "      <td>12.0</td>\n",
              "      <td>2800</td>\n",
              "      <td>1299</td>\n",
              "    </tr>\n",
              "    <tr>\n",
              "      <th>832</th>\n",
              "      <td>4.1</td>\n",
              "      <td>8.0</td>\n",
              "      <td>64.0</td>\n",
              "      <td>4.54</td>\n",
              "      <td>64</td>\n",
              "      <td>NaN</td>\n",
              "      <td>2500</td>\n",
              "      <td>1390</td>\n",
              "    </tr>\n",
              "    <tr>\n",
              "      <th>833</th>\n",
              "      <td>4.4</td>\n",
              "      <td>3.0</td>\n",
              "      <td>32.0</td>\n",
              "      <td>6.20</td>\n",
              "      <td>48</td>\n",
              "      <td>1.0</td>\n",
              "      <td>3800</td>\n",
              "      <td>9790</td>\n",
              "    </tr>\n",
              "    <tr>\n",
              "      <th>834</th>\n",
              "      <td>3.7</td>\n",
              "      <td>10.0</td>\n",
              "      <td>32.0</td>\n",
              "      <td>4.50</td>\n",
              "      <td>64</td>\n",
              "      <td>NaN</td>\n",
              "      <td>3500</td>\n",
              "      <td>799</td>\n",
              "    </tr>\n",
              "    <tr>\n",
              "      <th>835</th>\n",
              "      <td>3.5</td>\n",
              "      <td>6.0</td>\n",
              "      <td>32.0</td>\n",
              "      <td>4.50</td>\n",
              "      <td>64</td>\n",
              "      <td>15.0</td>\n",
              "      <td>1050</td>\n",
              "      <td>799</td>\n",
              "    </tr>\n",
              "  </tbody>\n",
              "</table>\n",
              "<p>836 rows × 8 columns</p>\n",
              "</div>"
            ],
            "text/plain": [
              "     Ratings   RAM    ROM  ...  Selfi_Cam  Battery_Power  Price\n",
              "0        4.3   4.0  128.0  ...       13.0           4000  24999\n",
              "1        3.4   6.0   64.0  ...       12.0           4000  15999\n",
              "2        4.3   4.0    4.0  ...       16.0           4000  15000\n",
              "3        4.4   6.0   64.0  ...       15.0           3800  18999\n",
              "4        4.5   6.0  128.0  ...       15.0           3800  18999\n",
              "..       ...   ...    ...  ...        ...            ...    ...\n",
              "831      3.8   6.0   32.0  ...       12.0           2800   1299\n",
              "832      4.1   8.0   64.0  ...        NaN           2500   1390\n",
              "833      4.4   3.0   32.0  ...        1.0           3800   9790\n",
              "834      3.7  10.0   32.0  ...        NaN           3500    799\n",
              "835      3.5   6.0   32.0  ...       15.0           1050    799\n",
              "\n",
              "[836 rows x 8 columns]"
            ]
          },
          "execution_count": null,
          "metadata": {},
          "output_type": "execute_result"
        }
      ]
    },
    {
      "cell_type": "code",
      "metadata": {
        "colab": {
          "base_uri": "https://localhost:8080/"
        },
        "id": "d9a61b76",
        "outputId": "a8f8257f-2652-4412-8cd9-999238a1adec"
      },
      "source": [
        "df.isnull().sum()"
      ],
      "id": "d9a61b76",
      "execution_count": 41,
      "outputs": [
        {
          "output_type": "execute_result",
          "data": {
            "text/plain": [
              "Ratings           31\n",
              "RAM                7\n",
              "ROM                4\n",
              "Mobile_Size        2\n",
              "Primary_Cam        0\n",
              "Selfi_Cam        269\n",
              "Battery_Power      0\n",
              "Price              0\n",
              "dtype: int64"
            ]
          },
          "metadata": {},
          "execution_count": 41
        }
      ]
    },
    {
      "cell_type": "code",
      "metadata": {
        "id": "8430c6fe"
      },
      "source": [
        "df=df.drop('Selfi_Cam', axis=1)"
      ],
      "id": "8430c6fe",
      "execution_count": 42,
      "outputs": []
    },
    {
      "cell_type": "code",
      "metadata": {
        "id": "0b39b118"
      },
      "source": [
        "df=df.dropna()"
      ],
      "id": "0b39b118",
      "execution_count": 43,
      "outputs": []
    },
    {
      "cell_type": "code",
      "metadata": {
        "colab": {
          "base_uri": "https://localhost:8080/",
          "height": 423
        },
        "id": "8e7964ba",
        "outputId": "f1fb6ebd-01d3-48d3-fbe7-9852b267e916"
      },
      "source": [
        "df"
      ],
      "id": "8e7964ba",
      "execution_count": 45,
      "outputs": [
        {
          "output_type": "execute_result",
          "data": {
            "text/html": [
              "<div>\n",
              "<style scoped>\n",
              "    .dataframe tbody tr th:only-of-type {\n",
              "        vertical-align: middle;\n",
              "    }\n",
              "\n",
              "    .dataframe tbody tr th {\n",
              "        vertical-align: top;\n",
              "    }\n",
              "\n",
              "    .dataframe thead th {\n",
              "        text-align: right;\n",
              "    }\n",
              "</style>\n",
              "<table border=\"1\" class=\"dataframe\">\n",
              "  <thead>\n",
              "    <tr style=\"text-align: right;\">\n",
              "      <th></th>\n",
              "      <th>Ratings</th>\n",
              "      <th>RAM</th>\n",
              "      <th>ROM</th>\n",
              "      <th>Mobile_Size</th>\n",
              "      <th>Primary_Cam</th>\n",
              "      <th>Battery_Power</th>\n",
              "      <th>Price</th>\n",
              "    </tr>\n",
              "  </thead>\n",
              "  <tbody>\n",
              "    <tr>\n",
              "      <th>0</th>\n",
              "      <td>4.3</td>\n",
              "      <td>4.0</td>\n",
              "      <td>128.0</td>\n",
              "      <td>6.00</td>\n",
              "      <td>48</td>\n",
              "      <td>4000</td>\n",
              "      <td>24999</td>\n",
              "    </tr>\n",
              "    <tr>\n",
              "      <th>1</th>\n",
              "      <td>3.4</td>\n",
              "      <td>6.0</td>\n",
              "      <td>64.0</td>\n",
              "      <td>4.50</td>\n",
              "      <td>48</td>\n",
              "      <td>4000</td>\n",
              "      <td>15999</td>\n",
              "    </tr>\n",
              "    <tr>\n",
              "      <th>2</th>\n",
              "      <td>4.3</td>\n",
              "      <td>4.0</td>\n",
              "      <td>4.0</td>\n",
              "      <td>4.50</td>\n",
              "      <td>64</td>\n",
              "      <td>4000</td>\n",
              "      <td>15000</td>\n",
              "    </tr>\n",
              "    <tr>\n",
              "      <th>3</th>\n",
              "      <td>4.4</td>\n",
              "      <td>6.0</td>\n",
              "      <td>64.0</td>\n",
              "      <td>6.40</td>\n",
              "      <td>48</td>\n",
              "      <td>3800</td>\n",
              "      <td>18999</td>\n",
              "    </tr>\n",
              "    <tr>\n",
              "      <th>4</th>\n",
              "      <td>4.5</td>\n",
              "      <td>6.0</td>\n",
              "      <td>128.0</td>\n",
              "      <td>6.18</td>\n",
              "      <td>35</td>\n",
              "      <td>3800</td>\n",
              "      <td>18999</td>\n",
              "    </tr>\n",
              "    <tr>\n",
              "      <th>...</th>\n",
              "      <td>...</td>\n",
              "      <td>...</td>\n",
              "      <td>...</td>\n",
              "      <td>...</td>\n",
              "      <td>...</td>\n",
              "      <td>...</td>\n",
              "      <td>...</td>\n",
              "    </tr>\n",
              "    <tr>\n",
              "      <th>831</th>\n",
              "      <td>3.8</td>\n",
              "      <td>6.0</td>\n",
              "      <td>32.0</td>\n",
              "      <td>4.54</td>\n",
              "      <td>48</td>\n",
              "      <td>2800</td>\n",
              "      <td>1299</td>\n",
              "    </tr>\n",
              "    <tr>\n",
              "      <th>832</th>\n",
              "      <td>4.1</td>\n",
              "      <td>8.0</td>\n",
              "      <td>64.0</td>\n",
              "      <td>4.54</td>\n",
              "      <td>64</td>\n",
              "      <td>2500</td>\n",
              "      <td>1390</td>\n",
              "    </tr>\n",
              "    <tr>\n",
              "      <th>833</th>\n",
              "      <td>4.4</td>\n",
              "      <td>3.0</td>\n",
              "      <td>32.0</td>\n",
              "      <td>6.20</td>\n",
              "      <td>48</td>\n",
              "      <td>3800</td>\n",
              "      <td>9790</td>\n",
              "    </tr>\n",
              "    <tr>\n",
              "      <th>834</th>\n",
              "      <td>3.7</td>\n",
              "      <td>10.0</td>\n",
              "      <td>32.0</td>\n",
              "      <td>4.50</td>\n",
              "      <td>64</td>\n",
              "      <td>3500</td>\n",
              "      <td>799</td>\n",
              "    </tr>\n",
              "    <tr>\n",
              "      <th>835</th>\n",
              "      <td>3.5</td>\n",
              "      <td>6.0</td>\n",
              "      <td>32.0</td>\n",
              "      <td>4.50</td>\n",
              "      <td>64</td>\n",
              "      <td>1050</td>\n",
              "      <td>799</td>\n",
              "    </tr>\n",
              "  </tbody>\n",
              "</table>\n",
              "<p>793 rows × 7 columns</p>\n",
              "</div>"
            ],
            "text/plain": [
              "     Ratings   RAM    ROM  Mobile_Size  Primary_Cam  Battery_Power  Price\n",
              "0        4.3   4.0  128.0         6.00           48           4000  24999\n",
              "1        3.4   6.0   64.0         4.50           48           4000  15999\n",
              "2        4.3   4.0    4.0         4.50           64           4000  15000\n",
              "3        4.4   6.0   64.0         6.40           48           3800  18999\n",
              "4        4.5   6.0  128.0         6.18           35           3800  18999\n",
              "..       ...   ...    ...          ...          ...            ...    ...\n",
              "831      3.8   6.0   32.0         4.54           48           2800   1299\n",
              "832      4.1   8.0   64.0         4.54           64           2500   1390\n",
              "833      4.4   3.0   32.0         6.20           48           3800   9790\n",
              "834      3.7  10.0   32.0         4.50           64           3500    799\n",
              "835      3.5   6.0   32.0         4.50           64           1050    799\n",
              "\n",
              "[793 rows x 7 columns]"
            ]
          },
          "metadata": {},
          "execution_count": 45
        }
      ]
    },
    {
      "cell_type": "code",
      "metadata": {
        "id": "EtjmbGQzpLSN"
      },
      "source": [
        ""
      ],
      "id": "EtjmbGQzpLSN",
      "execution_count": null,
      "outputs": []
    },
    {
      "cell_type": "code",
      "metadata": {
        "colab": {
          "base_uri": "https://localhost:8080/",
          "height": 379
        },
        "id": "q76ALsU0pMTC",
        "outputId": "29d019df-7918-4e05-f04b-bea27be4f7e5"
      },
      "source": [
        "plt.figure(figsize = (12,6))\n",
        "sns.heatmap(df.corr())\n",
        "plt.show()"
      ],
      "id": "q76ALsU0pMTC",
      "execution_count": 61,
      "outputs": [
        {
          "output_type": "display_data",
          "data": {
            "image/png": "[encoded data removed]",
            "text/plain": [
              "<Figure size 864x432 with 2 Axes>"
            ]
          },
          "metadata": {
            "needs_background": "light"
          }
        }
      ]
    },
    {
      "cell_type": "code",
      "metadata": {
        "id": "1b507725"
      },
      "source": [
        "from sklearn.model_selection import train_test_split\n",
        "x=df.drop('Price', axis=1)\n",
        "y=df['Price']\n",
        "X_train,X_test,y_train,y_test = train_test_split(x, y, test_size=0.33, random_state=42)"
      ],
      "id": "1b507725",
      "execution_count": 46,
      "outputs": []
    },
    {
      "cell_type": "code",
      "metadata": {
        "id": "67ebd8c6"
      },
      "source": [
        "from sklearn.linear_model import LinearRegression"
      ],
      "id": "67ebd8c6",
      "execution_count": 47,
      "outputs": []
    },
    {
      "cell_type": "code",
      "metadata": {
        "colab": {
          "base_uri": "https://localhost:8080/"
        },
        "id": "1b106b2e",
        "outputId": "847656f5-14f5-4067-a362-a9f72a341e98"
      },
      "source": [
        "model=LinearRegression()\n",
        "model.fit(X_train, y_train)"
      ],
      "id": "1b106b2e",
      "execution_count": 48,
      "outputs": [
        {
          "output_type": "execute_result",
          "data": {
            "text/plain": [
              "LinearRegression()"
            ]
          },
          "metadata": {},
          "execution_count": 48
        }
      ]
    },
    {
      "cell_type": "code",
      "metadata": {
        "colab": {
          "base_uri": "https://localhost:8080/"
        },
        "id": "a4b9118e",
        "outputId": "d50768af-9613-4d98-f939-5eca83c23477"
      },
      "source": [
        "model.score(X_train,y_train)"
      ],
      "id": "a4b9118e",
      "execution_count": 49,
      "outputs": [
        {
          "output_type": "execute_result",
          "data": {
            "text/plain": [
              "0.20091353293957537"
            ]
          },
          "metadata": {},
          "execution_count": 49
        }
      ]
    },
    {
      "cell_type": "code",
      "metadata": {
        "colab": {
          "base_uri": "https://localhost:8080/"
        },
        "id": "8cf7e660",
        "outputId": "43287cd2-0a8b-4dca-ac06-deed61195114"
      },
      "source": [
        "model.score(X_test,y_test)"
      ],
      "id": "8cf7e660",
      "execution_count": 50,
      "outputs": [
        {
          "output_type": "execute_result",
          "data": {
            "text/plain": [
              "0.20733510145429757"
            ]
          },
          "metadata": {},
          "execution_count": 50
        }
      ]
    },
    {
      "cell_type": "code",
      "metadata": {
        "id": "7a24dd45"
      },
      "source": [
        "from sklearn.tree import DecisionTreeRegressor"
      ],
      "id": "7a24dd45",
      "execution_count": 51,
      "outputs": []
    },
    {
      "cell_type": "code",
      "metadata": {
        "colab": {
          "base_uri": "https://localhost:8080/"
        },
        "id": "ffcd3d3a",
        "outputId": "0ff0ddb0-0b9a-4d13-e90b-09e60d0c4bdb"
      },
      "source": [
        "dt=DecisionTreeRegressor()\n",
        "dt.fit(X_train,y_train)"
      ],
      "id": "ffcd3d3a",
      "execution_count": 52,
      "outputs": [
        {
          "output_type": "execute_result",
          "data": {
            "text/plain": [
              "DecisionTreeRegressor()"
            ]
          },
          "metadata": {},
          "execution_count": 52
        }
      ]
    },
    {
      "cell_type": "code",
      "metadata": {
        "colab": {
          "base_uri": "https://localhost:8080/"
        },
        "id": "240c0a0e",
        "outputId": "65bd02e6-10a2-485c-dc13-28d0228deb43"
      },
      "source": [
        "dt.score(X_train,y_train)"
      ],
      "id": "240c0a0e",
      "execution_count": 53,
      "outputs": [
        {
          "output_type": "execute_result",
          "data": {
            "text/plain": [
              "0.9695104772658583"
            ]
          },
          "metadata": {},
          "execution_count": 53
        }
      ]
    },
    {
      "cell_type": "code",
      "metadata": {
        "colab": {
          "base_uri": "https://localhost:8080/"
        },
        "id": "59305eca",
        "outputId": "c71dfd12-2372-427f-c36a-30e46c79ede8"
      },
      "source": [
        "dt.score(X_test,y_test)"
      ],
      "id": "59305eca",
      "execution_count": 54,
      "outputs": [
        {
          "output_type": "execute_result",
          "data": {
            "text/plain": [
              "0.9631034810145547"
            ]
          },
          "metadata": {},
          "execution_count": 54
        }
      ]
    },
    {
      "cell_type": "code",
      "metadata": {
        "id": "23f7c288"
      },
      "source": [
        "from sklearn.ensemble import RandomForestRegressor\n",
        "rf=RandomForestRegressor()"
      ],
      "id": "23f7c288",
      "execution_count": 55,
      "outputs": []
    },
    {
      "cell_type": "code",
      "metadata": {
        "colab": {
          "base_uri": "https://localhost:8080/"
        },
        "id": "0268404d",
        "outputId": "204bc4d9-4179-4e6b-bf06-3877034663ee"
      },
      "source": [
        "rf.fit(X_train,y_train)"
      ],
      "id": "0268404d",
      "execution_count": 56,
      "outputs": [
        {
          "output_type": "execute_result",
          "data": {
            "text/plain": [
              "RandomForestRegressor()"
            ]
          },
          "metadata": {},
          "execution_count": 56
        }
      ]
    },
    {
      "cell_type": "code",
      "metadata": {
        "colab": {
          "base_uri": "https://localhost:8080/"
        },
        "id": "d705a637",
        "outputId": "3105e12e-1220-4bb9-88e4-2d2e16e982b9"
      },
      "source": [
        "rf.score(X_train,y_train)"
      ],
      "id": "d705a637",
      "execution_count": 57,
      "outputs": [
        {
          "output_type": "execute_result",
          "data": {
            "text/plain": [
              "0.9406469886905156"
            ]
          },
          "metadata": {},
          "execution_count": 57
        }
      ]
    },
    {
      "cell_type": "code",
      "metadata": {
        "colab": {
          "base_uri": "https://localhost:8080/"
        },
        "id": "edfb673b",
        "outputId": "ce20bc28-a4af-40e2-b326-1da22bb11975"
      },
      "source": [
        "rf.score(X_test,y_test)"
      ],
      "id": "edfb673b",
      "execution_count": 58,
      "outputs": [
        {
          "output_type": "execute_result",
          "data": {
            "text/plain": [
              "0.5724383941766822"
            ]
          },
          "metadata": {},
          "execution_count": 58
        }
      ]
    },
    {
      "cell_type": "code",
      "metadata": {
        "colab": {
          "base_uri": "https://localhost:8080/"
        },
        "id": "fc2ffd5b",
        "outputId": "854742ef-7f61-4f6f-c3c6-e80e91c34310"
      },
      "source": [
        "from sklearn.tree import DecisionTreeRegressor\n",
        "dt=DecisionTreeRegressor()\n",
        "dt.fit(X_train,y_train)\n",
        "print(dt.score(X_test,y_test))\n",
        "print(dt.score(X_train,y_train))"
      ],
      "id": "fc2ffd5b",
      "execution_count": 59,
      "outputs": [
        {
          "output_type": "stream",
          "name": "stdout",
          "text": [
            "0.9620579334341027\n",
            "0.9695104772658583\n"
          ]
        }
      ]
    },
    {
      "cell_type": "code",
      "metadata": {
        "id": "7dff64b4"
      },
      "source": [
        "import pickle\n",
        "pickle.dump(model,open('model.pkl','wb'))"
      ],
      "id": "7dff64b4",
      "execution_count": 60,
      "outputs": []
    },
    {
      "cell_type": "code",
      "metadata": {
        "colab": {
          "background_save": true
        },
        "id": "64bad08b"
      },
      "source": [
        ""
      ],
      "id": "64bad08b",
      "execution_count": null,
      "outputs": []
    }
  ]
}